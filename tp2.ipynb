{
 "cells": [
  {
   "cell_type": "code",
   "execution_count": 10,
   "metadata": {},
   "outputs": [],
   "source": [
    "import pandas as pd\n",
    "import gc\n",
    "import matplotlib.pyplot as plt\n",
    "from sklearn.impute import SimpleImputer\n",
    "from sklearn.tree import DecisionTreeClassifier\n",
    "from sklearn.pipeline import make_pipeline\n",
    "from sklearn.metrics import roc_auc_score\n",
    "from sklearn.model_selection import RandomizedSearchCV\n",
    "from sklearn.model_selection import train_test_split\n",
    "from sklearn.preprocessing import OneHotEncoder\n",
    "from sklearn.compose import ColumnTransformer\n",
    "from scipy.stats import randint"
   ]
  },
  {
   "cell_type": "code",
   "execution_count": 3,
   "metadata": {},
   "outputs": [],
   "source": [
    "# Print all columns and rows\n",
    "pd.set_option('display.max_columns', None)\n",
    "pd.set_option('display.max_rows', None)\n",
    "pd.set_option('display.width', None)"
   ]
  },
  {
   "cell_type": "code",
   "execution_count": 4,
   "metadata": {},
   "outputs": [
    {
     "name": "stdout",
     "output_type": "stream",
     "text": [
      "Loading data...\n"
     ]
    }
   ],
   "source": [
    "# Load part of the train data\n",
    "csv_files = [\"ctr_15.csv\", \"ctr_16.csv\", \"ctr_17.csv\", \"ctr_18.csv\", \"ctr_19.csv\", \"ctr_20.csv\", \"ctr_21.csv\"]\n",
    "samples = []\n",
    "porcentaje_datos = 0.1\n",
    "\n",
    "print(\"Loading data...\")\n",
    "for file in csv_files:\n",
    "    # Leer el archivo CSV\n",
    "    df = pd.read_csv(file)\n",
    "    \n",
    "    # Tomar una muestra aleatoria del porcentaje definido\n",
    "    sample = df.sample(frac=porcentaje_datos, random_state=1234)\n",
    "    \n",
    "    # Agregar el sample a la lista\n",
    "    samples.append(sample)\n",
    "    del df\n",
    "    gc.collect()\n",
    "\n",
    "train = pd.concat(samples, ignore_index=True)"
   ]
  },
  {
   "cell_type": "code",
   "execution_count": 5,
   "metadata": {},
   "outputs": [],
   "source": [
    "# Load the test data\n",
    "testeo = pd.read_csv(\"ctr_test.csv\")"
   ]
  },
  {
   "cell_type": "code",
   "execution_count": 7,
   "metadata": {},
   "outputs": [
    {
     "name": "stdout",
     "output_type": "stream",
     "text": [
      "               Label    auction_age  auction_bidfloor  auction_time  \\\n",
      "count  864459.000000  174779.000000     864459.000000  8.644590e+05   \n",
      "mean        0.012202      31.044370          0.518898  1.516300e+09   \n",
      "std         0.109786       9.865463          1.009598  1.786528e+05   \n",
      "min         0.000000      -1.000000          0.000000  1.515975e+09   \n",
      "25%         0.000000      25.000000          0.090000  1.516136e+09   \n",
      "50%         0.000000      29.000000          0.170000  1.516310e+09   \n",
      "75%         0.000000      36.000000          0.590000  1.516461e+09   \n",
      "max         1.000000     124.000000         39.220000  1.516580e+09   \n",
      "\n",
      "       creative_height  creative_width  timezone_offset  \n",
      "count    732359.000000   732359.000000    863638.000000  \n",
      "mean        132.236351      319.948588         1.806904  \n",
      "std         127.404864       45.674991         1.885873  \n",
      "min          50.000000      300.000000         1.000000  \n",
      "25%          50.000000      300.000000         1.000000  \n",
      "50%          50.000000      320.000000         1.000000  \n",
      "75%         250.000000      320.000000         1.000000  \n",
      "max        1024.000000     1024.000000        10.000000  \n"
     ]
    }
   ],
   "source": [
    "# Resumen estadístico para variables numéricas\n",
    "print(train.describe())"
   ]
  },
  {
   "cell_type": "code",
   "execution_count": 13,
   "metadata": {},
   "outputs": [
    {
     "data": {
      "image/png": "[encoded data removed]",
      "text/plain": [
       "<Figure size 640x480 with 1 Axes>"
      ]
     },
     "metadata": {},
     "output_type": "display_data"
    }
   ],
   "source": [
    "plt.hist(train['Label'], bins=3)\n",
    "plt.xlabel('Clicked (1) or Not Clicked (0)')\n",
    "plt.ylabel('Frequency')\n",
    "plt.title('Distribution of Clicks')\n",
    "plt.show()"
   ]
  },
  {
   "cell_type": "code",
   "execution_count": 9,
   "metadata": {},
   "outputs": [
    {
     "name": "stdout",
     "output_type": "stream",
     "text": [
      "action_categorical_0\n",
      "9915ffee                225076\n",
      "11b7af3d                190629\n",
      "c2e4f717                150196\n",
      "604d011f                142154\n",
      "e350c7c7                 80243\n",
      "c202ab08                 51558\n",
      "6b5513a4                 14790\n",
      "7f02cacc                  6881\n",
      "c186959e                  2932\n",
      "Name: count, dtype: int64\n"
     ]
    }
   ],
   "source": [
    "# Frecuencia de variables categóricas\n",
    "print(train[['action_categorical_0']].value_counts())"
   ]
  },
  {
   "cell_type": "code",
   "execution_count": 5,
   "metadata": {},
   "outputs": [
    {
     "name": "stdout",
     "output_type": "stream",
     "text": [
      "Identifying columns...\n"
     ]
    }
   ],
   "source": [
    "# Identificar las columnas numéricas y categóricas\n",
    "print(\"Identifying columns...\")\n",
    "categorical_columns = train.select_dtypes(include=['object']).columns\n",
    "numerical_columns = train.select_dtypes(include=['number']).columns"
   ]
  },
  {
   "cell_type": "code",
   "execution_count": 6,
   "metadata": {},
   "outputs": [
    {
     "name": "stdout",
     "output_type": "stream",
     "text": [
      "Separando X e Y...\n",
      "Splitting data en validation and training...\n"
     ]
    }
   ],
   "source": [
    "# Train a tree on the train data\n",
    "print(\"Separando X e Y...\")\n",
    "X = train.drop('Label', axis=1)\n",
    "y = train['Label']\n",
    "\n",
    "print(\"Splitting data en validation and training...\")\n",
    "X_train, X_val, y_train, y_val = train_test_split(X, y, test_size=0.2, random_state=1234)"
   ]
  },
  {
   "cell_type": "code",
   "execution_count": 7,
   "metadata": {},
   "outputs": [],
   "source": [
    "# Crear el ColumnTransformer para aplicar OneHotEncoder a las columnas categóricas y SimpleImputer a las numéricas\n",
    "numerical_columns = train.select_dtypes(include=['number']).columns.difference(['Label'])\n",
    "categorical_columns = train.select_dtypes(include=['object']).columns\n",
    "\n",
    "preprocessor = ColumnTransformer(\n",
    "    transformers=[\n",
    "        ('num', SimpleImputer(), numerical_columns),\n",
    "        ('cat', OneHotEncoder(handle_unknown='ignore'), categorical_columns)\n",
    "    ]\n",
    ")"
   ]
  },
  {
   "cell_type": "code",
   "execution_count": 8,
   "metadata": {},
   "outputs": [
    {
     "name": "stdout",
     "output_type": "stream",
     "text": [
      "Implementing RandomizedSearchCV...\n",
      "Fitting the model...\n",
      "Fitting 3 folds for each of 5 candidates, totalling 15 fits\n"
     ]
    }
   ],
   "source": [
    "# Definir el modelo y la pipeline\n",
    "pipeline = make_pipeline(preprocessor, DecisionTreeClassifier(random_state=2345))\n",
    "\n",
    "# Definir el espacio de hiperparámetros\n",
    "param_dist = {\n",
    "    'decisiontreeclassifier__max_depth': randint(1, 30),\n",
    "    'decisiontreeclassifier__min_samples_split': randint(2, 100),\n",
    "    'decisiontreeclassifier__min_samples_leaf': randint(1, 100)\n",
    "}\n",
    "\n",
    "# Implementar RandomizedSearchCV\n",
    "print(\"Implementing RandomizedSearchCV...\")\n",
    "random_search = RandomizedSearchCV(pipeline, param_distributions=param_dist, n_iter=5, scoring='roc_auc', random_state=1234, cv=3, verbose=1, error_score='raise')\n",
    "\n",
    "print(\"Fitting the model...\")\n",
    "# Ajustar el modelo con los mejores hiperparámetros\n",
    "random_search.fit(X_train, y_train)\n",
    "\n",
    "# Obtener los mejores parámetros y el mejor AUC\n",
    "best_params = random_search.best_params_\n",
    "best_score = random_search.best_score_\n",
    "\n",
    "print(f\"Best parameters: {best_params}\")\n",
    "print(f\"Best AUC score: {best_score:.2f}\")"
   ]
  },
  {
   "cell_type": "code",
   "execution_count": null,
   "metadata": {},
   "outputs": [],
   "source": [
    "# Predecir en el conjunto de validación\n",
    "y_test_probs = random_search.predict_proba(X_val)[:, 1]\n",
    "roc_auc = roc_auc_score(y_val, y_test_probs)\n",
    "\n",
    "print(f\"AUC on validation set: {roc_auc:.2f}\")"
   ]
  },
  {
   "cell_type": "code",
   "execution_count": null,
   "metadata": {},
   "outputs": [],
   "source": [
    "# Predecir en el conjunto de testeo\n",
    "y_preds = random_search.predict_proba(testeo.drop(columns=[\"id\"]))[:, 1]\n"
   ]
  },
  {
   "cell_type": "code",
   "execution_count": null,
   "metadata": {},
   "outputs": [],
   "source": [
    "# Make the submission file\n",
    "submission_df = pd.DataFrame({\"id\": testeo[\"id\"], \"Label\": y_preds})\n",
    "submission_df[\"id\"] = submission_df[\"id\"].astype(int)\n",
    "submission_df.to_csv(\"rand_search_ohe.csv\", sep=\",\", index=False)"
   ]
  }
 ],
 "metadata": {
  "kernelspec": {
   "display_name": "TD6",
   "language": "python",
   "name": "python3"
  },
  "language_info": {
   "codemirror_mode": {
    "name": "ipython",
    "version": 3
   },
   "file_extension": ".py",
   "mimetype": "text/x-python",
   "name": "python",
   "nbconvert_exporter": "python",
   "pygments_lexer": "ipython3",
   "version": "3.12.4"
  }
 },
 "nbformat": 4,
 "nbformat_minor": 2
}
